{
 "cells": [
  {
   "cell_type": "code",
   "execution_count": 14,
   "id": "4c0b4f8e",
   "metadata": {},
   "outputs": [],
   "source": [
    "n = 1\n",
    "n = n + 1\n",
    "if n%100 == 0:\n",
    "    print(\"지금 n번째 돌아가는 중\")"
   ]
  },
  {
   "cell_type": "code",
   "execution_count": 15,
   "id": "52db9885",
   "metadata": {},
   "outputs": [],
   "source": [
    "num = \"cat\""
   ]
  },
  {
   "cell_type": "code",
   "execution_count": 16,
   "id": "ead2fc77",
   "metadata": {},
   "outputs": [
    {
     "data": {
      "text/plain": [
       "'점심점심점심'"
      ]
     },
     "execution_count": 16,
     "metadata": {},
     "output_type": "execute_result"
    }
   ],
   "source": [
    "\"점심\"*3"
   ]
  },
  {
   "cell_type": "code",
   "execution_count": 17,
   "id": "ee92edf2",
   "metadata": {},
   "outputs": [
    {
     "data": {
      "text/plain": [
       "'뭐'"
      ]
     },
     "execution_count": 17,
     "metadata": {},
     "output_type": "execute_result"
    }
   ],
   "source": [
    "\"오늘 점심 뭐먹지?\"[6]"
   ]
  },
  {
   "cell_type": "code",
   "execution_count": 18,
   "id": "2c256b02",
   "metadata": {},
   "outputs": [
    {
     "data": {
      "text/plain": [
       "'뭐'"
      ]
     },
     "execution_count": 18,
     "metadata": {},
     "output_type": "execute_result"
    }
   ],
   "source": [
    "\"오늘 점심 뭐먹지?\"[-4]"
   ]
  },
  {
   "cell_type": "code",
   "execution_count": 19,
   "id": "4261aa96",
   "metadata": {},
   "outputs": [
    {
     "data": {
      "text/plain": [
       "'점심'"
      ]
     },
     "execution_count": 19,
     "metadata": {},
     "output_type": "execute_result"
    }
   ],
   "source": [
    "\"오늘 점심 뭐먹지?\"[-7:-5]"
   ]
  },
  {
   "cell_type": "code",
   "execution_count": 24,
   "id": "f426d502",
   "metadata": {},
   "outputs": [
    {
     "data": {
      "text/plain": [
       "'점심 뭐먹지?'"
      ]
     },
     "execution_count": 24,
     "metadata": {},
     "output_type": "execute_result"
    }
   ],
   "source": [
    "\"오늘 점심 뭐먹지?\"[3:]"
   ]
  },
  {
   "cell_type": "code",
   "execution_count": 26,
   "id": "b3577af5",
   "metadata": {},
   "outputs": [
    {
     "data": {
      "text/plain": [
       "\"오늘 점심 메뉴는 {'김치볶음밥', '돈까스', '참치김밥'}입니다\""
      ]
     },
     "execution_count": 26,
     "metadata": {},
     "output_type": "execute_result"
    }
   ],
   "source": [
    "menu = {\"김치볶음밥\", \"참치김밥\", \"돈까스\"}\n",
    "\"오늘 점심 메뉴는 %s입니다\"%menu"
   ]
  },
  {
   "cell_type": "code",
   "execution_count": 29,
   "id": "ad451a73",
   "metadata": {},
   "outputs": [
    {
     "name": "stdout",
     "output_type": "stream",
     "text": [
      "오늘 점심 메뉴는 {'김치볶음밥', '돈까스', '참치김밥'}입니다\n"
     ]
    }
   ],
   "source": [
    "menu = {\"김치볶음밥\", \"참치김밥\", \"돈까스\"}\n",
    "print(\"오늘 점심 메뉴는 {}입니다\".format(menu))"
   ]
  },
  {
   "cell_type": "code",
   "execution_count": 30,
   "id": "71086ed0",
   "metadata": {},
   "outputs": [
    {
     "name": "stdout",
     "output_type": "stream",
     "text": [
      "오늘 점심 메뉴는 {'김치볶음밥', '돈까스', '참치김밥'}입니다\n"
     ]
    }
   ],
   "source": [
    "menu = {\"김치볶음밥\", \"참치김밥\", \"돈까스\"}\n",
    "print(f\"오늘 점심 메뉴는 {menu}입니다\")"
   ]
  },
  {
   "cell_type": "code",
   "execution_count": 31,
   "id": "2bfcfa4d",
   "metadata": {},
   "outputs": [
    {
     "data": {
      "text/plain": [
       "4"
      ]
     },
     "execution_count": 31,
     "metadata": {},
     "output_type": "execute_result"
    }
   ],
   "source": [
    "lyrics = \"sorry sorry sorry sorry 내가 내가 내가 내가 먼저 네게 네게 네게\"\n",
    "lyrics.count(\"sorry\")"
   ]
  },
  {
   "cell_type": "code",
   "execution_count": 32,
   "id": "4c34f9e1",
   "metadata": {},
   "outputs": [
    {
     "data": {
      "text/plain": [
       "'SORRY SORRY SORRY SORRY 내가 내가 내가 내가 먼저 네게 네게 네게'"
      ]
     },
     "execution_count": 32,
     "metadata": {},
     "output_type": "execute_result"
    }
   ],
   "source": [
    "lyrics.upper()"
   ]
  },
  {
   "cell_type": "code",
   "execution_count": 33,
   "id": "eaad6a72",
   "metadata": {},
   "outputs": [
    {
     "data": {
      "text/plain": [
       "'sorry sorry sorry sorry 내가 내가 내가 내가 먼저 네게 네게 네게'"
      ]
     },
     "execution_count": 33,
     "metadata": {},
     "output_type": "execute_result"
    }
   ],
   "source": [
    "lyrics.lower()"
   ]
  },
  {
   "cell_type": "code",
   "execution_count": 34,
   "id": "c1694692",
   "metadata": {},
   "outputs": [
    {
     "data": {
      "text/plain": [
       "0"
      ]
     },
     "execution_count": 34,
     "metadata": {},
     "output_type": "execute_result"
    }
   ],
   "source": [
    "lyrics.find(\"sorry\")"
   ]
  },
  {
   "cell_type": "code",
   "execution_count": 35,
   "id": "0cdbb717",
   "metadata": {},
   "outputs": [
    {
     "data": {
      "text/plain": [
       "-1"
      ]
     },
     "execution_count": 35,
     "metadata": {},
     "output_type": "execute_result"
    }
   ],
   "source": [
    "lyrics.find(\"ant\")"
   ]
  },
  {
   "cell_type": "code",
   "execution_count": 36,
   "id": "31af8735",
   "metadata": {},
   "outputs": [
    {
     "data": {
      "text/plain": [
       "'hi hi hi hi 내가 내가 내가 내가 먼저 네게 네게 네게'"
      ]
     },
     "execution_count": 36,
     "metadata": {},
     "output_type": "execute_result"
    }
   ],
   "source": [
    "lyrics.replace(\"sorry\",\"hi\")"
   ]
  },
  {
   "cell_type": "code",
   "execution_count": 37,
   "id": "d80c58a0",
   "metadata": {},
   "outputs": [
    {
     "data": {
      "text/plain": [
       "['sorry',\n",
       " 'sorry',\n",
       " 'sorry',\n",
       " 'sorry',\n",
       " '내가',\n",
       " '내가',\n",
       " '내가',\n",
       " '내가',\n",
       " '먼저',\n",
       " '네게',\n",
       " '네게',\n",
       " '네게']"
      ]
     },
     "execution_count": 37,
     "metadata": {},
     "output_type": "execute_result"
    }
   ],
   "source": [
    "lyrics.split()"
   ]
  },
  {
   "cell_type": "code",
   "execution_count": 41,
   "id": "c0d2ed2f",
   "metadata": {},
   "outputs": [
    {
     "data": {
      "text/plain": [
       "False"
      ]
     },
     "execution_count": 41,
     "metadata": {},
     "output_type": "execute_result"
    }
   ],
   "source": [
    "# boolean 앞에 not 붙여서 결과를 역으로 나오게 할 수 있음\n",
    "not 1+ 2 != 2"
   ]
  },
  {
   "cell_type": "code",
   "execution_count": 42,
   "id": "563edc01",
   "metadata": {},
   "outputs": [
    {
     "data": {
      "text/plain": [
       "'짜장면'"
      ]
     },
     "execution_count": 42,
     "metadata": {},
     "output_type": "execute_result"
    }
   ],
   "source": [
    "\"짜장\"+\"면\""
   ]
  },
  {
   "cell_type": "code",
   "execution_count": 60,
   "id": "27864ac2",
   "metadata": {},
   "outputs": [
    {
     "data": {
      "text/plain": [
       "['짜장면', '짬뽕']"
      ]
     },
     "execution_count": 60,
     "metadata": {},
     "output_type": "execute_result"
    }
   ],
   "source": [
    "list = [\"짜장면\"]\n",
    "list.append(\"짬뽕\")\n",
    "list"
   ]
  },
  {
   "cell_type": "code",
   "execution_count": 61,
   "id": "9e98eaf3",
   "metadata": {},
   "outputs": [
    {
     "data": {
      "text/plain": [
       "['짜장면', '탕수육', '짬뽕']"
      ]
     },
     "execution_count": 61,
     "metadata": {},
     "output_type": "execute_result"
    }
   ],
   "source": [
    "list.insert(1,\"탕수육\")\n",
    "list"
   ]
  },
  {
   "cell_type": "code",
   "execution_count": 62,
   "id": "b5c11025",
   "metadata": {},
   "outputs": [
    {
     "data": {
      "text/plain": [
       "['짜장면', '탕수육']"
      ]
     },
     "execution_count": 62,
     "metadata": {},
     "output_type": "execute_result"
    }
   ],
   "source": [
    "list.remove(\"짬뽕\")\n",
    "list"
   ]
  },
  {
   "cell_type": "code",
   "execution_count": 63,
   "id": "b517ddb3",
   "metadata": {},
   "outputs": [
    {
     "data": {
      "text/plain": [
       "['짜장면']"
      ]
     },
     "execution_count": 63,
     "metadata": {},
     "output_type": "execute_result"
    }
   ],
   "source": [
    "del list[1]\n",
    "list"
   ]
  },
  {
   "cell_type": "code",
   "execution_count": 65,
   "id": "c5bd1d8a",
   "metadata": {},
   "outputs": [
    {
     "data": {
      "text/plain": [
       "['짬뽕']"
      ]
     },
     "execution_count": 65,
     "metadata": {},
     "output_type": "execute_result"
    }
   ],
   "source": [
    "list[0] = \"짬뽕\"\n",
    "list"
   ]
  },
  {
   "cell_type": "code",
   "execution_count": 51,
   "id": "d7bcf068",
   "metadata": {},
   "outputs": [
    {
     "name": "stdout",
     "output_type": "stream",
     "text": [
      "there is 3\n"
     ]
    }
   ],
   "source": [
    "if 3 in range(5):\n",
    "    print(\"there is 3\")"
   ]
  },
  {
   "cell_type": "code",
   "execution_count": 54,
   "id": "6f257317",
   "metadata": {},
   "outputs": [
    {
     "name": "stdout",
     "output_type": "stream",
     "text": [
      "0\n",
      "1\n",
      "2\n",
      "3\n",
      "4\n",
      "5\n",
      "6\n",
      "7\n",
      "8\n",
      "9\n"
     ]
    }
   ],
   "source": [
    "for i in range(10):\n",
    "    print(i)"
   ]
  },
  {
   "cell_type": "code",
   "execution_count": 5,
   "id": "cf7c2bfb",
   "metadata": {},
   "outputs": [
    {
     "name": "stdout",
     "output_type": "stream",
     "text": [
      "14193\n"
     ]
    }
   ],
   "source": [
    "a = 1\n",
    "while True:\n",
    "    if (a>10000) and (a % 57 == 0) and (a % 83 == 0):\n",
    "        print(a)\n",
    "        break\n",
    "    else:\n",
    "        a += 1"
   ]
  },
  {
   "cell_type": "code",
   "execution_count": 11,
   "id": "08737925",
   "metadata": {},
   "outputs": [
    {
     "name": "stdout",
     "output_type": "stream",
     "text": [
      "14193\n"
     ]
    }
   ],
   "source": [
    "a = 10000\n",
    "while True:\n",
    "    if (a % (57*83) == 0):\n",
    "        print(a)\n",
    "        break\n",
    "    else:\n",
    "        a += 1"
   ]
  },
  {
   "cell_type": "code",
   "execution_count": 12,
   "id": "7bd57082",
   "metadata": {},
   "outputs": [
    {
     "name": "stdout",
     "output_type": "stream",
     "text": [
      "14193\n"
     ]
    }
   ],
   "source": [
    "n = 10000\n",
    "while (n%57 != 0) or (n%83 != 0):\n",
    "    n = n + 1\n",
    "print(n)"
   ]
  },
  {
   "cell_type": "code",
   "execution_count": 13,
   "id": "35e81846",
   "metadata": {},
   "outputs": [
    {
     "name": "stdout",
     "output_type": "stream",
     "text": [
      "-0.14285714285714285\n",
      "-0.16666666666666666\n",
      "-0.2\n",
      "-0.25\n",
      "-0.3333333333333333\n",
      "-0.5\n",
      "-1.0\n",
      "오류\n",
      "1.0\n",
      "0.5\n"
     ]
    }
   ],
   "source": [
    "for i in range(10):\n",
    "    try:\n",
    "        print(1/(i-7))\n",
    "    except:\n",
    "        print(\"오류\")\n",
    "    "
   ]
  },
  {
   "cell_type": "code",
   "execution_count": 16,
   "id": "cd110915",
   "metadata": {},
   "outputs": [
    {
     "name": "stdout",
     "output_type": "stream",
     "text": [
      "4\n"
     ]
    },
    {
     "ename": "Exception",
     "evalue": "X",
     "output_type": "error",
     "traceback": [
      "\u001b[1;31m---------------------------------------------------------------------------\u001b[0m",
      "\u001b[1;31mException\u001b[0m                                 Traceback (most recent call last)",
      "Input \u001b[1;32mIn [16]\u001b[0m, in \u001b[0;36m<cell line: 2>\u001b[1;34m()\u001b[0m\n\u001b[0;32m      3\u001b[0m     \u001b[38;5;28;01mpass\u001b[39;00m\n\u001b[0;32m      4\u001b[0m \u001b[38;5;28;01melse\u001b[39;00m :\n\u001b[1;32m----> 5\u001b[0m     \u001b[38;5;28;01mraise\u001b[39;00m \u001b[38;5;167;01mException\u001b[39;00m(\u001b[38;5;124m\"\u001b[39m\u001b[38;5;124mX\u001b[39m\u001b[38;5;124m\"\u001b[39m)\n\u001b[0;32m      6\u001b[0m \u001b[38;5;28mprint\u001b[39m(a)\n",
      "\u001b[1;31mException\u001b[0m: X"
     ]
    }
   ],
   "source": [
    "a = int(input())\n",
    "if a%3 ==0:\n",
    "    pass\n",
    "else :\n",
    "    raise Exception(\"X\")\n",
    "print(a)"
   ]
  },
  {
   "cell_type": "code",
   "execution_count": 50,
   "id": "fab1bbc8",
   "metadata": {},
   "outputs": [
    {
     "data": {
      "text/plain": [
       "{'이름': {'임꺽정', '장길산', '홍길동'},\n",
       " '나이': {20, 35, 52},\n",
       " '키': {160, 180, 200},\n",
       " '발 사이즈': {260, 270, 290},\n",
       " '평균들': [35.666666666666664, 180.0, 273.3333333333333]}"
      ]
     },
     "execution_count": 50,
     "metadata": {},
     "output_type": "execute_result"
    }
   ],
   "source": [
    "csb = {\"이름\" : {\"홍길동\",\"임꺽정\",\"장길산\"}, \"나이\" : {20,35,52}, \"키\" : {160,200,180}, \"발 사이즈\" : {260,290,270}}\n",
    "\n",
    "avg = []\n",
    "for i in csb:\n",
    "    try : \n",
    "        n=0\n",
    "        for j in csb[i]:\n",
    "            n = n + j\n",
    "        avg.append(n/len(csb[i]))\n",
    "    except:\n",
    "        pass\n",
    "csb[\"평균들\"]  = avg\n",
    "csb"
   ]
  },
  {
   "cell_type": "code",
   "execution_count": 51,
   "id": "92c2fabc",
   "metadata": {},
   "outputs": [
    {
     "data": {
      "text/plain": [
       "{'이름': {'임꺽정', '장길산', '홍길동'},\n",
       " '나이': {20, 35, 52},\n",
       " '키': {160, 180, 200},\n",
       " '발 사이즈': {260, 270, 290},\n",
       " '평균들': [35.666666666666664, 180.0, 273.3333333333333]}"
      ]
     },
     "execution_count": 51,
     "metadata": {},
     "output_type": "execute_result"
    }
   ],
   "source": [
    "csb = {\"이름\" : {\"홍길동\",\"임꺽정\",\"장길산\"}, \"나이\" : {20,35,52}, \"키\" : {160,200,180}, \"발 사이즈\" : {260,290,270}}\n",
    "\n",
    "avg = []\n",
    "for i in list(csb.keys())[1:]:\n",
    "    n=0\n",
    "    for j in csb[i]:\n",
    "        n = n + j\n",
    "    avg.append(n/len(csb[i]))\n",
    "csb[\"평균들\"]  = avg\n",
    "csb"
   ]
  },
  {
   "cell_type": "code",
   "execution_count": null,
   "id": "cbad0bfc",
   "metadata": {},
   "outputs": [],
   "source": []
  }
 ],
 "metadata": {
  "kernelspec": {
   "display_name": "Python 3 (ipykernel)",
   "language": "python",
   "name": "python3"
  },
  "language_info": {
   "codemirror_mode": {
    "name": "ipython",
    "version": 3
   },
   "file_extension": ".py",
   "mimetype": "text/x-python",
   "name": "python",
   "nbconvert_exporter": "python",
   "pygments_lexer": "ipython3",
   "version": "3.9.12"
  }
 },
 "nbformat": 4,
 "nbformat_minor": 5
}
