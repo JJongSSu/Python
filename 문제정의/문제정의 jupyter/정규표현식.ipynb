{
 "cells": [
  {
   "cell_type": "code",
   "execution_count": 1,
   "id": "bde7e169",
   "metadata": {},
   "outputs": [],
   "source": [
    "import re"
   ]
  },
  {
   "cell_type": "code",
   "execution_count": 2,
   "id": "2eb424c2",
   "metadata": {},
   "outputs": [],
   "source": [
    "# re\n",
    "# 특정 조건의 문자열을 컴퓨터에 인식시키는 것\n",
    "# 직접 입력하는 것 제외"
   ]
  },
  {
   "cell_type": "code",
   "execution_count": 3,
   "id": "c704e23b",
   "metadata": {},
   "outputs": [
    {
     "data": {
      "text/plain": [
       "re.compile(r'배불러', re.UNICODE)"
      ]
     },
     "execution_count": 3,
     "metadata": {},
     "output_type": "execute_result"
    }
   ],
   "source": [
    "s = re.compile(\"배불러\")\n",
    "s"
   ]
  },
  {
   "cell_type": "code",
   "execution_count": 4,
   "id": "2332f6d5",
   "metadata": {},
   "outputs": [
    {
     "data": {
      "text/plain": [
       "<re.Match object; span=(0, 3), match='배불러'>"
      ]
     },
     "execution_count": 4,
     "metadata": {},
     "output_type": "execute_result"
    }
   ],
   "source": [
    "# 있으면 결과 나오고 없으면 결과 안나옴 : 딥러닝에 사용가능 할 듯. 결과유무 파악\n",
    "s.match(\"배불러\")"
   ]
  },
  {
   "cell_type": "code",
   "execution_count": 5,
   "id": "d93c0ed2",
   "metadata": {},
   "outputs": [],
   "source": [
    "s.match(\"배고파\")"
   ]
  },
  {
   "cell_type": "code",
   "execution_count": 7,
   "id": "425e564f",
   "metadata": {},
   "outputs": [
    {
     "name": "stdout",
     "output_type": "stream",
     "text": [
      "<re.Match object; span=(0, 3), match='배고파'>\n",
      "<re.Match object; span=(0, 3), match='배아파'>\n"
     ]
    }
   ],
   "source": [
    "a = re.compile(\"배.파\")\n",
    "print(a.match(\"배고파\"))\n",
    "print(a.match(\"배아파\"))\n",
    "# 정규표현식에서 .은 모든 것을 뜻함\n",
    "# 배고파, 배아파 모두 포함"
   ]
  },
  {
   "cell_type": "code",
   "execution_count": 9,
   "id": "1093574c",
   "metadata": {},
   "outputs": [
    {
     "data": {
      "text/plain": [
       "['배불러', '배불러', '배불러']"
      ]
     },
     "execution_count": 9,
     "metadata": {},
     "output_type": "execute_result"
    }
   ],
   "source": [
    "# 컴파일링된 것들을 모두 찾는 함수\n",
    "s.findall(\"배불러 배불러 배불러 아아아아아 배고파\")"
   ]
  },
  {
   "cell_type": "code",
   "execution_count": 10,
   "id": "43057d7d",
   "metadata": {},
   "outputs": [
    {
     "data": {
      "text/plain": [
       "<re.Match object; span=(0, 3), match='배불러'>"
      ]
     },
     "execution_count": 10,
     "metadata": {},
     "output_type": "execute_result"
    }
   ],
   "source": [
    "# 컴파일링된 것들 중 제일 먼저 있는 것의 위치를 찾아줌\n",
    "s.search(\"배불러 배불러 배불러 아아아아아 배고파\")"
   ]
  },
  {
   "cell_type": "markdown",
   "id": "e57a865d",
   "metadata": {},
   "source": [
    "### 정규표현식 문법\n",
    "1. . : 모든 것(. 한개에 한글자만 가능 -> 글자수와 . 개수 맞춰줘야 됨), 빈공간 포함\n",
    "2. * : 0번 이상 반복(반복하고 싶은 글자뒤에 입력)\n",
    "3. + : 1번 이상 반복(반복하고 싶은 글자뒤에 입력)\n",
    "4. {숫자} : 앞글자를 숫자만큼 반복\n",
    "5. {숫자1, 숫자2} : 숫자1 이상 숫자2 이하만큼만 반복\n",
    "6. ? : 앞글자가 있거나 없거나\n",
    "\\사용해서 글자 그대로 인식하게 할 수 있음\n",
    "ex) \\. -> .표현"
   ]
  },
  {
   "cell_type": "markdown",
   "id": "d597b178",
   "metadata": {},
   "source": [
    "### 괄호 활용\n",
    "소괄호 : and\n",
    "대괄호 : or -> 대괄호만 사용했을 시 대괄호 안에 한글자만 인식"
   ]
  },
  {
   "cell_type": "code",
   "execution_count": 11,
   "id": "a7a4e6e4",
   "metadata": {},
   "outputs": [
    {
     "name": "stdout",
     "output_type": "stream",
     "text": [
      "None\n",
      "<re.Match object; span=(0, 3), match='배고파'>\n",
      "None\n",
      "None\n",
      "<re.Match object; span=(0, 5), match='배고파고파'>\n"
     ]
    }
   ],
   "source": [
    "c = re.compile(\"배(고파)+\")\n",
    "print(c.match(\"배파\"))\n",
    "print(c.match(\"배고파\"))\n",
    "print(c.match(\"배고고파\"))\n",
    "print(c.match(\"배고고고파\"))\n",
    "print(c.match(\"배고파고파\"))"
   ]
  },
  {
   "cell_type": "code",
   "execution_count": 16,
   "id": "f75d745a",
   "metadata": {},
   "outputs": [
    {
     "name": "stdout",
     "output_type": "stream",
     "text": [
      "None\n",
      "<re.Match object; span=(0, 2), match='배고'>\n",
      "<re.Match object; span=(0, 2), match='배파'>\n",
      "<re.Match object; span=(0, 2), match='배고'>\n",
      "<re.Match object; span=(0, 2), match='배고'>\n"
     ]
    }
   ],
   "source": [
    "c = re.compile(\"배[고파]\")\n",
    "print(c.match(\"배\"))\n",
    "print(c.match(\"배고\"))\n",
    "print(c.match(\"배파\"))\n",
    "print(c.match(\"배고파\"))\n",
    "print(c.match(\"배고파고파\"))"
   ]
  },
  {
   "cell_type": "code",
   "execution_count": 17,
   "id": "f75f6c5d",
   "metadata": {},
   "outputs": [
    {
     "name": "stdout",
     "output_type": "stream",
     "text": [
      "None\n",
      "<re.Match object; span=(0, 2), match='배고'>\n",
      "<re.Match object; span=(0, 2), match='배파'>\n",
      "<re.Match object; span=(0, 3), match='배고파'>\n",
      "<re.Match object; span=(0, 5), match='배고파고파'>\n"
     ]
    }
   ],
   "source": [
    "c = re.compile(\"배[고파]+\")\n",
    "print(c.match(\"배\"))\n",
    "print(c.match(\"배고\"))\n",
    "print(c.match(\"배파\"))\n",
    "print(c.match(\"배고파\"))\n",
    "print(c.match(\"배고파고파\"))"
   ]
  },
  {
   "cell_type": "code",
   "execution_count": 29,
   "id": "b95091c9",
   "metadata": {},
   "outputs": [
    {
     "name": "stdout",
     "output_type": "stream",
     "text": [
      "<re.Match object; span=(0, 2), match='여고'>\n",
      "<re.Match object; span=(0, 2), match='남고'>\n",
      "<re.Match object; span=(0, 2), match='공고'>\n",
      "<re.Match object; span=(0, 2), match='외고'>\n",
      "<re.Match object; span=(0, 3), match='남공고'>\n"
     ]
    }
   ],
   "source": [
    "a = re.compile(\"[여외공남고]\")\n",
    "print(a.match(\"여고\"))\n",
    "print(a.match(\"남고\"))\n",
    "print(a.match(\"공고\"))\n",
    "print(a.match(\"외고\"))\n",
    "print(a.match(\"남공고\"))"
   ]
  },
  {
   "cell_type": "code",
   "execution_count": 34,
   "id": "41219acd",
   "metadata": {},
   "outputs": [
    {
     "name": "stdout",
     "output_type": "stream",
     "text": [
      "<re.Match object; span=(0, 7), match='외국어고등학교'>\n",
      "None\n",
      "<re.Match object; span=(0, 6), match='남자고등학교'>\n"
     ]
    }
   ],
   "source": [
    "b = re.compile(\"(여자|외국어|남자|공업)고등학교\")\n",
    "print(b.match(\"외국어고등학교\"))\n",
    "print(b.match(\"여자여자고등학교\"))\n",
    "print(b.match(\"남자고등학교\"))"
   ]
  },
  {
   "cell_type": "markdown",
   "id": "699494a9",
   "metadata": {},
   "source": [
    "### 대괄호 문법\n",
    "구간표현 가능\n",
    "여집합 : ^사용 -> ex) [^0-9] : 0-9제외 모두 가능"
   ]
  },
  {
   "cell_type": "code",
   "execution_count": 38,
   "id": "6be4a6c9",
   "metadata": {},
   "outputs": [
    {
     "name": "stdout",
     "output_type": "stream",
     "text": [
      "<re.Match object; span=(0, 1), match='1'>\n"
     ]
    }
   ],
   "source": [
    "b = re.compile(\"[0-9]\") \n",
    "# = re.compile(\"0123456789\")\n",
    "print(b.match(\"10\"))"
   ]
  },
  {
   "cell_type": "code",
   "execution_count": 39,
   "id": "c09d0aed",
   "metadata": {},
   "outputs": [
    {
     "name": "stdout",
     "output_type": "stream",
     "text": [
      "<re.Match object; span=(0, 2), match='10'>\n"
     ]
    }
   ],
   "source": [
    "b = re.compile(\"[0-9]+\") \n",
    "print(b.match(\"10\"))"
   ]
  },
  {
   "cell_type": "code",
   "execution_count": 40,
   "id": "8b1ade57",
   "metadata": {},
   "outputs": [
    {
     "name": "stdout",
     "output_type": "stream",
     "text": [
      "<re.Match object; span=(0, 1), match='a'>\n"
     ]
    }
   ],
   "source": [
    "b = re.compile(\"[a-z]\") \n",
    "print(b.match(\"a\"))"
   ]
  },
  {
   "cell_type": "code",
   "execution_count": 43,
   "id": "544bc301",
   "metadata": {},
   "outputs": [
    {
     "name": "stdout",
     "output_type": "stream",
     "text": [
      "<re.Match object; span=(0, 1), match='D'>\n"
     ]
    }
   ],
   "source": [
    "b = re.compile(\"[A-Z]\") \n",
    "print(b.match(\"D\"))"
   ]
  },
  {
   "cell_type": "code",
   "execution_count": 42,
   "id": "7d6f2d9e",
   "metadata": {},
   "outputs": [
    {
     "name": "stdout",
     "output_type": "stream",
     "text": [
      "<re.Match object; span=(0, 1), match='각'>\n"
     ]
    }
   ],
   "source": [
    "b = re.compile(\"[가-힣]\") \n",
    "print(b.match(\"각\"))"
   ]
  },
  {
   "cell_type": "code",
   "execution_count": 44,
   "id": "f1fce9bb",
   "metadata": {},
   "outputs": [
    {
     "name": "stdout",
     "output_type": "stream",
     "text": [
      "<re.Match object; span=(0, 1), match='ㅇ'>\n"
     ]
    }
   ],
   "source": [
    "b = re.compile(\"[ㄱ-ㅎ]\") \n",
    "print(b.match(\"ㅇ\"))"
   ]
  },
  {
   "cell_type": "code",
   "execution_count": 45,
   "id": "d02ebef9",
   "metadata": {},
   "outputs": [
    {
     "name": "stdout",
     "output_type": "stream",
     "text": [
      "<re.Match object; span=(0, 1), match='ㅕ'>\n"
     ]
    }
   ],
   "source": [
    "b = re.compile(\"[ㅏ-ㅣ]\") \n",
    "print(b.match(\"ㅕ\"))"
   ]
  },
  {
   "cell_type": "code",
   "execution_count": 47,
   "id": "69f0961f",
   "metadata": {},
   "outputs": [
    {
     "name": "stdout",
     "output_type": "stream",
     "text": [
      "<re.Match object; span=(0, 1), match='d'>\n"
     ]
    }
   ],
   "source": [
    "b = re.compile(\"[a-zA-Z0-9]\") \n",
    "print(b.match(\"d\"))"
   ]
  },
  {
   "cell_type": "code",
   "execution_count": 48,
   "id": "e4535d45",
   "metadata": {},
   "outputs": [
    {
     "name": "stdout",
     "output_type": "stream",
     "text": [
      "<re.Match object; span=(0, 1), match='d'>\n"
     ]
    }
   ],
   "source": [
    "b = re.compile(\"[^0-9]\") \n",
    "print(b.match(\"d\"))"
   ]
  },
  {
   "cell_type": "markdown",
   "id": "32dd30ba",
   "metadata": {},
   "source": [
    "### 정규표현식 특수문법\n",
    "정규표현식은 문자열에만 대응됨"
   ]
  },
  {
   "cell_type": "code",
   "execution_count": 53,
   "id": "62a26890",
   "metadata": {},
   "outputs": [
    {
     "name": "stdout",
     "output_type": "stream",
     "text": [
      "<re.Match object; span=(0, 1), match='9'>\n"
     ]
    }
   ],
   "source": [
    "d = re.compile(\"\\d\")\n",
    "#모든 숫자에 대응\n",
    "print(d.match(\"9\"))"
   ]
  },
  {
   "cell_type": "code",
   "execution_count": 123,
   "id": "ecc205ae",
   "metadata": {},
   "outputs": [
    {
     "name": "stdout",
     "output_type": "stream",
     "text": [
      "<re.Match object; span=(0, 1), match='r'>\n"
     ]
    }
   ],
   "source": [
    "d = re.compile(\"\\D\")\n",
    "#숫자가 아닌 모든 것에 대응\n",
    "print(d.match(\"r\"))"
   ]
  },
  {
   "cell_type": "code",
   "execution_count": 57,
   "id": "c7c83d85",
   "metadata": {},
   "outputs": [
    {
     "name": "stdout",
     "output_type": "stream",
     "text": [
      "<re.Match object; span=(0, 1), match=' '>\n"
     ]
    }
   ],
   "source": [
    "d = re.compile(\"\\s\")\n",
    "#space bar에만 대응\n",
    "print(d.match(\" \"))"
   ]
  },
  {
   "cell_type": "code",
   "execution_count": 58,
   "id": "98af31da",
   "metadata": {},
   "outputs": [
    {
     "name": "stdout",
     "output_type": "stream",
     "text": [
      "<re.Match object; span=(0, 1), match='가'>\n"
     ]
    }
   ],
   "source": [
    "d = re.compile(\"\\S\")\n",
    "#space bar이 아닌 모든 것에 대응\n",
    "print(d.match(\"가\"))"
   ]
  },
  {
   "cell_type": "code",
   "execution_count": 84,
   "id": "f792f03c",
   "metadata": {},
   "outputs": [
    {
     "name": "stdout",
     "output_type": "stream",
     "text": [
      "<re.Match object; span=(0, 1), match='나'>\n",
      "<re.Match object; span=(0, 1), match='a'>\n",
      "None\n",
      "None\n",
      "<re.Match object; span=(0, 1), match='_'>\n"
     ]
    }
   ],
   "source": [
    "d = re.compile(\"\\w\")\n",
    "#특수문자가 아닌 모든 것에 대응\n",
    "print(d.match(\"나\"))\n",
    "print(d.match(\"a\"))\n",
    "print(d.match(\"!\"))\n",
    "print(d.match(\" \"))\n",
    "print(d.match(\"_\"))\n",
    "#언더바는 인식 가능"
   ]
  },
  {
   "cell_type": "code",
   "execution_count": 65,
   "id": "fcc6f83a",
   "metadata": {},
   "outputs": [
    {
     "name": "stdout",
     "output_type": "stream",
     "text": [
      "None\n",
      "None\n",
      "<re.Match object; span=(0, 1), match='!'>\n",
      "<re.Match object; span=(0, 1), match=' '>\n",
      "None\n"
     ]
    }
   ],
   "source": [
    "d = re.compile(\"\\W\")\n",
    "#언더바를 제외한 모든 특수문자에 대응\n",
    "#특수문자 지울 때 사용\n",
    "print(d.match(\"나\"))\n",
    "print(d.match(\"a\"))\n",
    "print(d.match(\"!\"))\n",
    "print(d.match(\" \"))\n",
    "print(d.match(\"_\"))"
   ]
  },
  {
   "cell_type": "markdown",
   "id": "f04c3675",
   "metadata": {},
   "source": [
    "### 이메일 형식"
   ]
  },
  {
   "cell_type": "code",
   "execution_count": 116,
   "id": "02eefac3",
   "metadata": {},
   "outputs": [
    {
     "name": "stdout",
     "output_type": "stream",
     "text": [
      "<re.Match object; span=(0, 21), match='abcdefg1112@naver.com'>\n",
      "<re.Match object; span=(0, 23), match='abcdefg1112@naver.co.kr'>\n"
     ]
    }
   ],
   "source": [
    "# 이메일에는 공백이 없다는걸 이용\n",
    "e = re.compile(\"\\S+\")\n",
    "print(e.match(\"abcdefg1112@naver.com\"))\n",
    "print(e.match(\"abcdefg1112@naver.co.kr\"))"
   ]
  },
  {
   "cell_type": "code",
   "execution_count": 115,
   "id": "5e43978d",
   "metadata": {},
   "outputs": [
    {
     "name": "stdout",
     "output_type": "stream",
     "text": [
      "<re.Match object; span=(0, 21), match='abcdefg1112@naver.com'>\n",
      "<re.Match object; span=(0, 23), match='abcdefg1112@naver.co.kr'>\n"
     ]
    }
   ],
   "source": [
    "e = re.compile(\"[a-zA-Z0-9]+@[a-zA-Z]+.[a-zA-Z]+.[a-zA-Z]+\")\n",
    "print(e.match(\"abcdefg1112@naver.com\"))\n",
    "print(e.match(\"abcdefg1112@naver.co.kr\"))"
   ]
  },
  {
   "cell_type": "code",
   "execution_count": 104,
   "id": "f616762d",
   "metadata": {},
   "outputs": [
    {
     "name": "stdout",
     "output_type": "stream",
     "text": [
      "<re.Match object; span=(0, 21), match='abcdefg1112@naver.com'>\n",
      "<re.Match object; span=(0, 23), match='abcdefg1112@naver.co.kr'>\n"
     ]
    }
   ],
   "source": [
    "e = re.compile(\"[a-zA-Z0-9]+@[a-zA-Z]+(\\.[a-zA-Z]+)+\")\n",
    "print(e.match(\"abcdefg1112@naver.com\"))\n",
    "print(e.match(\"abcdefg1112@naver.co.kr\"))"
   ]
  },
  {
   "cell_type": "markdown",
   "id": "0bd694b8",
   "metadata": {},
   "source": [
    "### 전화번호 형식"
   ]
  },
  {
   "cell_type": "code",
   "execution_count": 166,
   "id": "713e73e1",
   "metadata": {},
   "outputs": [
    {
     "name": "stdout",
     "output_type": "stream",
     "text": [
      "<re.Match object; span=(0, 13), match='010-1234-5678'>\n",
      "<re.Match object; span=(0, 11), match='02-123-5678'>\n",
      "<re.Match object; span=(0, 13), match='010)1234-5678'>\n",
      "<re.Match object; span=(0, 11), match='01012345678'>\n",
      "<re.Match object; span=(0, 3), match='112'>\n",
      "<re.Match object; span=(0, 9), match='1588-5588'>\n"
     ]
    }
   ],
   "source": [
    "p = re.compile(\"[0-9]+\\W*[0-9]+\\W*[0-9]+\")\n",
    "print(p.match(\"010-1234-5678\"))\n",
    "print(p.match(\"02-123-5678\"))\n",
    "print(p.match(\"010)1234-5678\"))\n",
    "print(p.match(\"01012345678\"))\n",
    "print(p.match(\"112\"))\n",
    "print(p.match(\"1588-5588\"))"
   ]
  },
  {
   "cell_type": "code",
   "execution_count": 167,
   "id": "0cf1acea",
   "metadata": {},
   "outputs": [
    {
     "name": "stdout",
     "output_type": "stream",
     "text": [
      "<re.Match object; span=(0, 13), match='010-1234-5678'>\n",
      "<re.Match object; span=(0, 11), match='02-123-5678'>\n",
      "<re.Match object; span=(0, 13), match='010)1234-5678'>\n",
      "<re.Match object; span=(0, 11), match='01012345678'>\n",
      "<re.Match object; span=(0, 3), match='112'>\n",
      "<re.Match object; span=(0, 9), match='1588-5588'>\n"
     ]
    }
   ],
   "source": [
    "p = re.compile(\"([0-9]+\\W*)+\")\n",
    "print(p.match(\"010-1234-5678\"))\n",
    "print(p.match(\"02-123-5678\"))\n",
    "print(p.match(\"010)1234-5678\"))\n",
    "print(p.match(\"01012345678\"))\n",
    "print(p.match(\"112\"))\n",
    "print(p.match(\"1588-5588\"))"
   ]
  },
  {
   "cell_type": "code",
   "execution_count": 165,
   "id": "7ea4c56d",
   "metadata": {},
   "outputs": [
    {
     "name": "stdout",
     "output_type": "stream",
     "text": [
      "<re.Match object; span=(0, 13), match='010-1234-5678'>\n",
      "<re.Match object; span=(0, 11), match='02-123-5678'>\n",
      "<re.Match object; span=(0, 13), match='010)1234-5678'>\n",
      "<re.Match object; span=(0, 11), match='01012345678'>\n",
      "<re.Match object; span=(0, 3), match='112'>\n",
      "<re.Match object; span=(0, 9), match='1588-5588'>\n"
     ]
    }
   ],
   "source": [
    "p = re.compile(\"([0-9]+\\W?)+\")\n",
    "print(p.match(\"010-1234-5678\"))\n",
    "print(p.match(\"02-123-5678\"))\n",
    "print(p.match(\"010)1234-5678\"))\n",
    "print(p.match(\"01012345678\"))\n",
    "print(p.match(\"112\"))\n",
    "print(p.match(\"1588-5588\"))"
   ]
  },
  {
   "cell_type": "code",
   "execution_count": 168,
   "id": "ed12e1f9",
   "metadata": {},
   "outputs": [],
   "source": [
    "### 의미있는 숫자일 경우 예외처리 가능\n",
    "e = re.compile(\"[0-9]+\\W*[0-9]+\\W*[0-9]+\")\n",
    "article = \"불러온 data\"\n",
    "filt = e.findall(article)\n",
    "for i in filt:\n",
    "    if i == \"8900\":\n",
    "        pass\n",
    "    else : \n",
    "        article = article.replace(i,\"\")\n",
    "article"
   ]
  },
  {
   "cell_type": "code",
   "execution_count": null,
   "id": "9bdbefce",
   "metadata": {},
   "outputs": [],
   "source": []
  }
 ],
 "metadata": {
  "kernelspec": {
   "display_name": "Python 3 (ipykernel)",
   "language": "python",
   "name": "python3"
  },
  "language_info": {
   "codemirror_mode": {
    "name": "ipython",
    "version": 3
   },
   "file_extension": ".py",
   "mimetype": "text/x-python",
   "name": "python",
   "nbconvert_exporter": "python",
   "pygments_lexer": "ipython3",
   "version": "3.9.12"
  }
 },
 "nbformat": 4,
 "nbformat_minor": 5
}
